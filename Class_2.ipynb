{
 "cells": [
  {
   "cell_type": "code",
   "execution_count": 1,
   "id": "215dd3c1-e979-446f-9261-099090a4a5f8",
   "metadata": {
    "tags": []
   },
   "outputs": [
    {
     "name": "stdout",
     "output_type": "stream",
     "text": [
      "['False', 'None', 'True', 'and', 'as', 'assert', 'async', 'await', 'break', 'class', 'continue', 'def', 'del', 'elif', 'else', 'except', 'finally', 'for', 'from', 'global', 'if', 'import', 'in', 'is', 'lambda', 'nonlocal', 'not', 'or', 'pass', 'raise', 'return', 'try', 'while', 'with', 'yield']\n"
     ]
    }
   ],
   "source": [
    "import keyword\n",
    "print(keyword.kwlist)"
   ]
  },
  {
   "cell_type": "code",
   "execution_count": 3,
   "id": "fd4e0cbf-afcf-439d-bfd8-82548e3b069d",
   "metadata": {
    "tags": []
   },
   "outputs": [],
   "source": [
    "age = 56"
   ]
  },
  {
   "cell_type": "code",
   "execution_count": 8,
   "id": "afb1fe5f-1d87-4f9f-b752-546319c3c9fb",
   "metadata": {
    "tags": []
   },
   "outputs": [
    {
     "ename": "SyntaxError",
     "evalue": "invalid syntax (2861156983.py, line 1)",
     "output_type": "error",
     "traceback": [
      "\u001b[1;36m  Cell \u001b[1;32mIn[8], line 1\u001b[1;36m\u001b[0m\n\u001b[1;33m    _age2@ = 6\u001b[0m\n\u001b[1;37m           ^\u001b[0m\n\u001b[1;31mSyntaxError\u001b[0m\u001b[1;31m:\u001b[0m invalid syntax\n"
     ]
    }
   ],
   "source": [
    "_age2 = 6\n"
   ]
  },
  {
   "cell_type": "code",
   "execution_count": 11,
   "id": "85d54ddc-7ea3-42a5-9da5-838b2a43939f",
   "metadata": {
    "tags": []
   },
   "outputs": [],
   "source": [
    "Age = 3"
   ]
  },
  {
   "cell_type": "code",
   "execution_count": 13,
   "id": "85118ad5-46ba-4bd3-8e9c-d85b617b4a0c",
   "metadata": {
    "tags": []
   },
   "outputs": [
    {
     "data": {
      "text/plain": [
       "3"
      ]
     },
     "execution_count": 13,
     "metadata": {},
     "output_type": "execute_result"
    }
   ],
   "source": [
    "Age"
   ]
  },
  {
   "cell_type": "code",
   "execution_count": 14,
   "id": "0c3d2820-21dd-4a1b-9f62-5a920718f144",
   "metadata": {
    "tags": []
   },
   "outputs": [],
   "source": [
    "dic = {\"name\":\"Amit\",\"class\":6}"
   ]
  },
  {
   "cell_type": "code",
   "execution_count": 15,
   "id": "562af8a4-9166-4b83-aec1-af7c1dc3d0f7",
   "metadata": {
    "tags": []
   },
   "outputs": [
    {
     "data": {
      "text/plain": [
       "'Amit'"
      ]
     },
     "execution_count": 15,
     "metadata": {},
     "output_type": "execute_result"
    }
   ],
   "source": [
    "dic[\"name\"]"
   ]
  },
  {
   "cell_type": "code",
   "execution_count": 16,
   "id": "5576bf22-ec83-421c-9be6-3594319f8224",
   "metadata": {
    "tags": []
   },
   "outputs": [
    {
     "data": {
      "text/plain": [
       "6"
      ]
     },
     "execution_count": 16,
     "metadata": {},
     "output_type": "execute_result"
    }
   ],
   "source": [
    "dic[\"class\"]"
   ]
  },
  {
   "cell_type": "code",
   "execution_count": 17,
   "id": "422a9371-08ac-40d0-8518-427972c22ec1",
   "metadata": {
    "tags": []
   },
   "outputs": [],
   "source": [
    "st = {1,2,12,12,12,1}"
   ]
  },
  {
   "cell_type": "code",
   "execution_count": 18,
   "id": "2df58309-d056-4559-a25c-8f54cf66465e",
   "metadata": {
    "tags": []
   },
   "outputs": [
    {
     "data": {
      "text/plain": [
       "3"
      ]
     },
     "execution_count": 18,
     "metadata": {},
     "output_type": "execute_result"
    }
   ],
   "source": [
    "len(st)"
   ]
  },
  {
   "cell_type": "code",
   "execution_count": 19,
   "id": "9d823a87-462a-4d81-b954-fe81d408bab3",
   "metadata": {
    "tags": []
   },
   "outputs": [
    {
     "data": {
      "text/plain": [
       "{1, 2, 12}"
      ]
     },
     "execution_count": 19,
     "metadata": {},
     "output_type": "execute_result"
    }
   ],
   "source": [
    "st"
   ]
  },
  {
   "cell_type": "code",
   "execution_count": 20,
   "id": "0ddaab40-c6b4-4ccb-aa59-7b64491792a2",
   "metadata": {
    "tags": []
   },
   "outputs": [],
   "source": [
    "li = [1,2,34,5,6]"
   ]
  },
  {
   "cell_type": "code",
   "execution_count": 22,
   "id": "94567e41-83be-4a55-a1b6-829ca037aab2",
   "metadata": {
    "tags": []
   },
   "outputs": [],
   "source": [
    "li[0] = 100"
   ]
  },
  {
   "cell_type": "code",
   "execution_count": 23,
   "id": "7aa83425-4312-4db6-9c3b-301fe45824a4",
   "metadata": {
    "tags": []
   },
   "outputs": [
    {
     "data": {
      "text/plain": [
       "[100, 2, 34, 5, 6]"
      ]
     },
     "execution_count": 23,
     "metadata": {},
     "output_type": "execute_result"
    }
   ],
   "source": [
    "li"
   ]
  },
  {
   "cell_type": "code",
   "execution_count": 24,
   "id": "4834db12-cae4-42bf-904a-0db13e0a3a3f",
   "metadata": {
    "tags": []
   },
   "outputs": [],
   "source": [
    "tu = (1,2,34,6,5)"
   ]
  },
  {
   "cell_type": "code",
   "execution_count": 26,
   "id": "7affd482-ea09-44a8-a832-faff05bec4aa",
   "metadata": {
    "tags": []
   },
   "outputs": [
    {
     "ename": "TypeError",
     "evalue": "'tuple' object does not support item assignment",
     "output_type": "error",
     "traceback": [
      "\u001b[1;31m---------------------------------------------------------------------------\u001b[0m",
      "\u001b[1;31mTypeError\u001b[0m                                 Traceback (most recent call last)",
      "Cell \u001b[1;32mIn[26], line 1\u001b[0m\n\u001b[1;32m----> 1\u001b[0m tu[\u001b[38;5;241m0\u001b[39m] \u001b[38;5;241m=\u001b[39m \u001b[38;5;241m100\u001b[39m\n",
      "\u001b[1;31mTypeError\u001b[0m: 'tuple' object does not support item assignment"
     ]
    }
   ],
   "source": [
    "tu[0] = 100"
   ]
  },
  {
   "cell_type": "code",
   "execution_count": 27,
   "id": "12fd25dd-d49d-4832-acff-38b75e088861",
   "metadata": {
    "tags": []
   },
   "outputs": [
    {
     "data": {
      "text/plain": [
       "tuple"
      ]
     },
     "execution_count": 27,
     "metadata": {},
     "output_type": "execute_result"
    }
   ],
   "source": [
    "type(tu)"
   ]
  },
  {
   "cell_type": "code",
   "execution_count": 28,
   "id": "732728b5-c6bd-4350-9ba8-8565d70e124b",
   "metadata": {
    "tags": []
   },
   "outputs": [
    {
     "data": {
      "text/plain": [
       "int"
      ]
     },
     "execution_count": 28,
     "metadata": {},
     "output_type": "execute_result"
    }
   ],
   "source": [
    "type(age)"
   ]
  },
  {
   "cell_type": "code",
   "execution_count": 29,
   "id": "3c441f12-98d9-4609-ba64-b0ff194b42fc",
   "metadata": {
    "tags": []
   },
   "outputs": [
    {
     "data": {
      "text/plain": [
       "set"
      ]
     },
     "execution_count": 29,
     "metadata": {},
     "output_type": "execute_result"
    }
   ],
   "source": [
    "type(st)"
   ]
  },
  {
   "cell_type": "code",
   "execution_count": 31,
   "id": "9fddf8ee-1ae3-4a89-a626-1131e1acb4e8",
   "metadata": {
    "tags": []
   },
   "outputs": [
    {
     "data": {
      "text/plain": [
       "2"
      ]
     },
     "execution_count": 31,
     "metadata": {},
     "output_type": "execute_result"
    }
   ],
   "source": [
    "5//2"
   ]
  },
  {
   "cell_type": "code",
   "execution_count": 32,
   "id": "8a6a931f-7b2d-4329-b035-bb9aaa90614e",
   "metadata": {
    "tags": []
   },
   "outputs": [
    {
     "data": {
      "text/plain": [
       "1"
      ]
     },
     "execution_count": 32,
     "metadata": {},
     "output_type": "execute_result"
    }
   ],
   "source": [
    "5%2"
   ]
  },
  {
   "cell_type": "code",
   "execution_count": 33,
   "id": "8f90413b-25db-4185-8acb-8c8e1e2155a4",
   "metadata": {
    "tags": []
   },
   "outputs": [
    {
     "data": {
      "text/plain": [
       "8"
      ]
     },
     "execution_count": 33,
     "metadata": {},
     "output_type": "execute_result"
    }
   ],
   "source": [
    "2 ** 3"
   ]
  },
  {
   "cell_type": "code",
   "execution_count": 37,
   "id": "8c7dee86-94e0-4a5b-8ed7-36294d012ba4",
   "metadata": {
    "tags": []
   },
   "outputs": [
    {
     "name": "stdout",
     "output_type": "stream",
     "text": [
      "hello\n"
     ]
    }
   ],
   "source": [
    "print(\"hello\")"
   ]
  },
  {
   "cell_type": "code",
   "execution_count": 38,
   "id": "5e384cea-8bc6-4c3c-b0a8-1194d5739840",
   "metadata": {
    "tags": []
   },
   "outputs": [
    {
     "name": "stdout",
     "output_type": "stream",
     "text": [
      "\n",
      "hello\n",
      "hjdbfhdv\n",
      "hdbvfudfv\n",
      "hbsfuvn\n"
     ]
    }
   ],
   "source": [
    "print(\"\"\"\n",
    "hello\n",
    "hjdbfhdv\n",
    "hdbvfudfv\n",
    "hbsfuvn\"\"\")"
   ]
  },
  {
   "cell_type": "code",
   "execution_count": 46,
   "id": "a12dbdbc-42ce-4197-937f-fa7c7b696f6d",
   "metadata": {
    "tags": []
   },
   "outputs": [
    {
     "name": "stdout",
     "output_type": "stream",
     "text": [
      "sum of n and m is :->21\n"
     ]
    }
   ],
   "source": [
    "n = 15\n",
    "m = 6\n",
    "print(\"sum of n and m is :\",n+m,sep = \"->\" )"
   ]
  },
  {
   "cell_type": "code",
   "execution_count": 43,
   "id": "ce3ea1dd-2e79-4bfd-afe9-91937adc9ccc",
   "metadata": {
    "tags": []
   },
   "outputs": [
    {
     "name": "stdout",
     "output_type": "stream",
     "text": [
      "sum of 5 and 6 is : 11\n"
     ]
    }
   ],
   "source": [
    "print(\"sum of\",n,\"and\",m,\"is :\",n+m)"
   ]
  },
  {
   "cell_type": "code",
   "execution_count": 44,
   "id": "685c5cac-540d-443d-b475-dfab775615d5",
   "metadata": {
    "tags": []
   },
   "outputs": [
    {
     "name": "stdout",
     "output_type": "stream",
     "text": [
      "sum of 5 and 6 is 11\n"
     ]
    }
   ],
   "source": [
    "print(\"sum of %d and %d is %d\"%(n,m,n+m))"
   ]
  },
  {
   "cell_type": "code",
   "execution_count": 47,
   "id": "774fc890-9597-429d-a7c6-3e7e141e4e02",
   "metadata": {
    "tags": []
   },
   "outputs": [
    {
     "name": "stdout",
     "output_type": "stream",
     "text": [
      "Div of 15 and 6 is 2\n"
     ]
    }
   ],
   "source": [
    "print(\"Div of %d and %d is %d\"%(n,m,n/m))"
   ]
  },
  {
   "cell_type": "code",
   "execution_count": 48,
   "id": "15271342-7e58-4008-b43d-9a23c6032753",
   "metadata": {
    "tags": []
   },
   "outputs": [
    {
     "data": {
      "text/plain": [
       "2.5"
      ]
     },
     "execution_count": 48,
     "metadata": {},
     "output_type": "execute_result"
    }
   ],
   "source": [
    "15/6"
   ]
  },
  {
   "cell_type": "code",
   "execution_count": 49,
   "id": "1cb99b40-d26b-45c7-9e2b-2735a5ad892b",
   "metadata": {
    "tags": []
   },
   "outputs": [
    {
     "name": "stdout",
     "output_type": "stream",
     "text": [
      "Div of 15 and 6 is 2.5\n"
     ]
    }
   ],
   "source": [
    "print(\"Div of {} and {} is {}\".format(n,m,n/m))"
   ]
  },
  {
   "cell_type": "code",
   "execution_count": 51,
   "id": "ed3cdb31-3a7b-4956-ab25-da95291e6dfd",
   "metadata": {
    "tags": []
   },
   "outputs": [
    {
     "name": "stdout",
     "output_type": "stream",
     "text": [
      "Div of 15 and 6 is 2.5\n"
     ]
    }
   ],
   "source": [
    "print(f\"Div of {n} and {m} is {n/m}\")"
   ]
  },
  {
   "cell_type": "code",
   "execution_count": 54,
   "id": "47aa2c22-051c-485f-bf38-fdf4d2c59c9e",
   "metadata": {
    "tags": []
   },
   "outputs": [
    {
     "name": "stdin",
     "output_type": "stream",
     "text": [
      "Enter the value or number.. 56\n"
     ]
    }
   ],
   "source": [
    "ans = input(\"Enter the value or number..\")"
   ]
  },
  {
   "cell_type": "code",
   "execution_count": 55,
   "id": "23ea32a8-c9d2-40a3-af97-da140d434ad0",
   "metadata": {
    "tags": []
   },
   "outputs": [
    {
     "data": {
      "text/plain": [
       "'56'"
      ]
     },
     "execution_count": 55,
     "metadata": {},
     "output_type": "execute_result"
    }
   ],
   "source": [
    "ans"
   ]
  },
  {
   "cell_type": "code",
   "execution_count": 56,
   "id": "94d43b2e-7d17-43d4-a7d0-11eceffe79d0",
   "metadata": {
    "tags": []
   },
   "outputs": [
    {
     "name": "stdin",
     "output_type": "stream",
     "text": [
      "Enter the value or number 56\n"
     ]
    }
   ],
   "source": [
    "val = input(\"Enter the value or number\")"
   ]
  },
  {
   "cell_type": "code",
   "execution_count": 57,
   "id": "2e5258f8-e5a7-4eab-9515-5c7bf3cf7386",
   "metadata": {
    "tags": []
   },
   "outputs": [
    {
     "data": {
      "text/plain": [
       "'56'"
      ]
     },
     "execution_count": 57,
     "metadata": {},
     "output_type": "execute_result"
    }
   ],
   "source": [
    "val"
   ]
  },
  {
   "cell_type": "code",
   "execution_count": 61,
   "id": "b5654fe6-5077-413e-acec-eb2114499297",
   "metadata": {
    "tags": []
   },
   "outputs": [
    {
     "data": {
      "text/plain": [
       "112"
      ]
     },
     "execution_count": 61,
     "metadata": {},
     "output_type": "execute_result"
    }
   ],
   "source": [
    "int(ans) + int(val)"
   ]
  },
  {
   "cell_type": "code",
   "execution_count": 59,
   "id": "d4351b32-6daa-495f-8555-0fdb0b79c046",
   "metadata": {
    "tags": []
   },
   "outputs": [
    {
     "data": {
      "text/plain": [
       "str"
      ]
     },
     "execution_count": 59,
     "metadata": {},
     "output_type": "execute_result"
    }
   ],
   "source": [
    "type(ans)"
   ]
  },
  {
   "cell_type": "code",
   "execution_count": 60,
   "id": "022c685e-eb38-4e53-8482-00398ddc0bc9",
   "metadata": {
    "tags": []
   },
   "outputs": [
    {
     "data": {
      "text/plain": [
       "'HelloWorld'"
      ]
     },
     "execution_count": 60,
     "metadata": {},
     "output_type": "execute_result"
    }
   ],
   "source": [
    "\"Hello\" + \"World\""
   ]
  },
  {
   "cell_type": "code",
   "execution_count": 62,
   "id": "14116be5-2248-44b9-b506-babb5eb7792f",
   "metadata": {
    "tags": []
   },
   "outputs": [
    {
     "name": "stdin",
     "output_type": "stream",
     "text": [
      "Enter the val 23\n"
     ]
    }
   ],
   "source": [
    "n = int(input(\"Enter the val\"))"
   ]
  },
  {
   "cell_type": "code",
   "execution_count": 63,
   "id": "a03e8a2d-363c-4242-9419-5f26a5c87ae3",
   "metadata": {
    "tags": []
   },
   "outputs": [
    {
     "data": {
      "text/plain": [
       "int"
      ]
     },
     "execution_count": 63,
     "metadata": {},
     "output_type": "execute_result"
    }
   ],
   "source": [
    "type(n)"
   ]
  },
  {
   "cell_type": "code",
   "execution_count": null,
   "id": "f28cb38c-240c-4d68-b51b-953f94f53c63",
   "metadata": {},
   "outputs": [],
   "source": []
  }
 ],
 "metadata": {
  "kernelspec": {
   "display_name": "Python 3 (ipykernel)",
   "language": "python",
   "name": "python3"
  },
  "language_info": {
   "codemirror_mode": {
    "name": "ipython",
    "version": 3
   },
   "file_extension": ".py",
   "mimetype": "text/x-python",
   "name": "python",
   "nbconvert_exporter": "python",
   "pygments_lexer": "ipython3",
   "version": "3.11.5"
  }
 },
 "nbformat": 4,
 "nbformat_minor": 5
}
