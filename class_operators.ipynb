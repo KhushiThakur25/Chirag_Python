{
 "cells": [
  {
   "cell_type": "code",
   "execution_count": 1,
   "id": "0544640e-be28-4c34-b505-46df59cd95ef",
   "metadata": {
    "tags": []
   },
   "outputs": [],
   "source": [
    "n = 56\n",
    "m = 12\n"
   ]
  },
  {
   "cell_type": "code",
   "execution_count": 2,
   "id": "ef93fc8a-4c95-47e0-800c-49b49b1616a6",
   "metadata": {
    "tags": []
   },
   "outputs": [
    {
     "data": {
      "text/plain": [
       "True"
      ]
     },
     "execution_count": 2,
     "metadata": {},
     "output_type": "execute_result"
    }
   ],
   "source": [
    "n > m"
   ]
  },
  {
   "cell_type": "code",
   "execution_count": 3,
   "id": "2f7eb924-8abd-4c8f-b47e-bb2af013438f",
   "metadata": {
    "tags": []
   },
   "outputs": [
    {
     "data": {
      "text/plain": [
       "False"
      ]
     },
     "execution_count": 3,
     "metadata": {},
     "output_type": "execute_result"
    }
   ],
   "source": [
    "m > n"
   ]
  },
  {
   "cell_type": "code",
   "execution_count": 6,
   "id": "420f81c5-6f82-445e-9e74-723b1c99b9fb",
   "metadata": {
    "tags": []
   },
   "outputs": [
    {
     "data": {
      "text/plain": [
       "True"
      ]
     },
     "execution_count": 6,
     "metadata": {},
     "output_type": "execute_result"
    }
   ],
   "source": [
    "n != 6"
   ]
  },
  {
   "cell_type": "code",
   "execution_count": 8,
   "id": "83655513-3be0-468d-80ab-96410d6aa56d",
   "metadata": {
    "tags": []
   },
   "outputs": [
    {
     "data": {
      "text/plain": [
       "60"
      ]
     },
     "execution_count": 8,
     "metadata": {},
     "output_type": "execute_result"
    }
   ],
   "source": [
    "n + 4"
   ]
  },
  {
   "cell_type": "code",
   "execution_count": 10,
   "id": "28e74bcd-9292-45f3-a567-bce256ca6cb4",
   "metadata": {
    "tags": []
   },
   "outputs": [],
   "source": [
    "n = n + 4"
   ]
  },
  {
   "cell_type": "code",
   "execution_count": 12,
   "id": "49061de3-b3e1-404b-bb42-12713e9a28f1",
   "metadata": {
    "tags": []
   },
   "outputs": [],
   "source": [
    "n += 4"
   ]
  },
  {
   "cell_type": "code",
   "execution_count": 13,
   "id": "341f0911-ef22-4630-b714-143e844f20d1",
   "metadata": {
    "tags": []
   },
   "outputs": [
    {
     "data": {
      "text/plain": [
       "64"
      ]
     },
     "execution_count": 13,
     "metadata": {},
     "output_type": "execute_result"
    }
   ],
   "source": [
    "n"
   ]
  },
  {
   "cell_type": "code",
   "execution_count": 14,
   "id": "09bd744a-09c4-44cf-b638-528c06e3c386",
   "metadata": {
    "tags": []
   },
   "outputs": [],
   "source": [
    "x = True\n",
    "y = False\n",
    "z = True"
   ]
  },
  {
   "cell_type": "code",
   "execution_count": 19,
   "id": "b0e12eb1-b08a-47f2-91c8-2c6201effb9a",
   "metadata": {
    "tags": []
   },
   "outputs": [
    {
     "data": {
      "text/plain": [
       "True"
      ]
     },
     "execution_count": 19,
     "metadata": {},
     "output_type": "execute_result"
    }
   ],
   "source": [
    "n > 5 or n > 100"
   ]
  },
  {
   "cell_type": "code",
   "execution_count": 20,
   "id": "3cf94828-ef64-468f-bcb2-62303159c272",
   "metadata": {
    "tags": []
   },
   "outputs": [
    {
     "data": {
      "text/plain": [
       "False"
      ]
     },
     "execution_count": 20,
     "metadata": {},
     "output_type": "execute_result"
    }
   ],
   "source": [
    "not x"
   ]
  },
  {
   "cell_type": "code",
   "execution_count": 22,
   "id": "bda5c7d1-b3ac-49e9-a16b-02ab8387eefb",
   "metadata": {
    "tags": []
   },
   "outputs": [
    {
     "name": "stdout",
     "output_type": "stream",
     "text": [
      "n is smaller\n"
     ]
    }
   ],
   "source": [
    "#Conditional statements\n",
    "if (n < 10):\n",
    "    print(\"n is greater\")\n",
    "else:\n",
    "    print(\"n is smaller\")"
   ]
  },
  {
   "cell_type": "code",
   "execution_count": 23,
   "id": "0beb775d-a4ba-48d8-89d1-08e8cb7d7a17",
   "metadata": {
    "tags": []
   },
   "outputs": [],
   "source": [
    "#find number is even or odd.\n",
    "#find number is divisible by 5.\n",
    "#find if the number is divisible by 5 and 11 then , it will be lucky number , otherwise unlucky number."
   ]
  },
  {
   "cell_type": "code",
   "execution_count": 26,
   "id": "ef5df599-fac2-4903-a18c-80209c115c71",
   "metadata": {
    "tags": []
   },
   "outputs": [
    {
     "name": "stdout",
     "output_type": "stream",
     "text": [
      "number is zero\n"
     ]
    }
   ],
   "source": [
    "n = 0\n",
    "if(n > 0):\n",
    "    print(\"number is positive\")\n",
    "elif (n < 0):\n",
    "    print(\"number is negative\")\n",
    "else:\n",
    "    print(\"number is zero\")"
   ]
  },
  {
   "cell_type": "code",
   "execution_count": 29,
   "id": "bb851479-1b91-4a86-992e-5b8174b54992",
   "metadata": {
    "tags": []
   },
   "outputs": [
    {
     "name": "stdout",
     "output_type": "stream",
     "text": [
      "a is greatest\n"
     ]
    }
   ],
   "source": [
    "a = 55\n",
    "b = 13\n",
    "c = 41\n",
    "if (a > b and a > c):\n",
    "    print(\"a is greatest\")\n",
    "elif (b > a and b > c):\n",
    "    print(\"b is greatest\")\n",
    "else:\n",
    "    print(\"c is greatest\")"
   ]
  },
  {
   "cell_type": "code",
   "execution_count": 30,
   "id": "aad4b9c3-c1f4-4bbb-9eda-2f6358e99d00",
   "metadata": {
    "tags": []
   },
   "outputs": [
    {
     "name": "stdin",
     "output_type": "stream",
     "text": [
      "Enter the marks of physics 56\n",
      "Enter the marks of chemistry 74\n",
      "Enter the marks of maths 95\n",
      "Enter the marks of english 45\n",
      "Enter the marks of computer 69\n"
     ]
    },
    {
     "name": "stdout",
     "output_type": "stream",
     "text": [
      "67.8 of the student..\n"
     ]
    }
   ],
   "source": [
    "ph = int(input(\"Enter the marks of physics\"))\n",
    "ch = int(input(\"Enter the marks of chemistry\"))\n",
    "ma = int(input(\"Enter the marks of maths\"))\n",
    "en = int(input(\"Enter the marks of english\"))\n",
    "co = int(input(\"Enter the marks of computer\"))\n",
    "\n",
    "total = ph + ch + ma + en + co\n",
    "\n",
    "percentage = total/5\n",
    "print(percentage,\"of the student..\")"
   ]
  },
  {
   "cell_type": "code",
   "execution_count": 31,
   "id": "3525da17-b749-46e7-a23f-ed1516fb7246",
   "metadata": {
    "tags": []
   },
   "outputs": [
    {
     "name": "stdout",
     "output_type": "stream",
     "text": [
      "grade D\n"
     ]
    }
   ],
   "source": [
    "if(percentage >= 90):\n",
    "    print(\"grade A\")\n",
    "elif(percentage >= 80):\n",
    "    print(\"grade B\")\n",
    "elif(percentage >= 70):\n",
    "    print(\"grade C\")\n",
    "elif(percentage >= 60):\n",
    "    print(\"grade D\")\n",
    "else:\n",
    "    print(\"Fail..\")"
   ]
  },
  {
   "cell_type": "code",
   "execution_count": null,
   "id": "c85ff7cf-9681-4c52-aeac-e5df125edd46",
   "metadata": {},
   "outputs": [],
   "source": []
  }
 ],
 "metadata": {
  "kernelspec": {
   "display_name": "Python 3 (ipykernel)",
   "language": "python",
   "name": "python3"
  },
  "language_info": {
   "codemirror_mode": {
    "name": "ipython",
    "version": 3
   },
   "file_extension": ".py",
   "mimetype": "text/x-python",
   "name": "python",
   "nbconvert_exporter": "python",
   "pygments_lexer": "ipython3",
   "version": "3.11.5"
  }
 },
 "nbformat": 4,
 "nbformat_minor": 5
}
